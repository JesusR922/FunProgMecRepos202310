{
  "cells": [
    {
      "cell_type": "markdown",
      "id": "6bb7deb9",
      "metadata": {
        "id": "6bb7deb9"
      },
      "source": [
        "# Introducción\n",
        "\n",
        "## Primeros Pasos\n",
        "\n",
        "Este es un párrafo en Markdown. Se escribe normalito.\n",
        "\n",
        "Algunos estilos son: _Esto es cursiva_, **Esto es negrita**\n",
        "\n",
        "Si quiero agregar código en línea, utilizo el backtip: `variable_1`, `variable_2`\n",
        "\n",
        "Y LaTeX para ecuaciones: $x, y, z$\n",
        "\n",
        "$$ y = mx + b $$\n",
        "\n",
        "## Listas Desordenadas\n",
        "\n",
        "Ingredientes:\n",
        "- Harina\n",
        "- Huevo\n",
        "- Leche\n",
        "- Azúcar\n",
        "- Mantequilla\n",
        "\n",
        "\n",
        "## Listas Ordenadas\n",
        "\n",
        "Receta:\n",
        "\n",
        "1. Mezcle los ingredientes secos (harina, azúcar)\n",
        "2. Agregue la leche y el huevo\n",
        "3. Mezcle con la mantequilla\n",
        "\n",
        "### Texto \"Estilizado\" o para frases:\n",
        "\n",
        "> Esta es una información importante"
      ]
    },
    {
      "cell_type": "markdown",
      "source": [
        "## comentario"
      ],
      "metadata": {
        "id": "niUbwxtFtnST"
      },
      "id": "niUbwxtFtnST"
    },
    {
      "cell_type": "code",
      "execution_count": null,
      "id": "f5e3c6e7",
      "metadata": {
        "id": "f5e3c6e7",
        "outputId": "db4e848d-9c21-438e-fcbe-4e9346dd179c"
      },
      "outputs": [
        {
          "name": "stdout",
          "output_type": "stream",
          "text": [
            "Bienvenidos a Python\n",
            "Hola Mikheltodd es un gusto conocerte.\n"
          ]
        }
      ],
      "source": [
        "print(\"Bienvenidos a Python\")\n",
        "name = \"Mikheltodd\"\n",
        "print(\"Hola\", name, \"es un gusto conocerte.\")"
      ]
    },
    {
      "cell_type": "code",
      "source": [
        "# este es un comentario"
      ],
      "metadata": {
        "id": "06g53XwIuGii"
      },
      "id": "06g53XwIuGii",
      "execution_count": 1,
      "outputs": []
    },
    {
      "cell_type": "code",
      "execution_count": null,
      "id": "f66c5d54",
      "metadata": {
        "id": "f66c5d54"
      },
      "outputs": [],
      "source": []
    },
    {
      "cell_type": "markdown",
      "source": [
        "## variables"
      ],
      "metadata": {
        "id": "RujogjnDvUPi"
      },
      "id": "RujogjnDvUPi"
    },
    {
      "cell_type": "code",
      "source": [],
      "metadata": {
        "id": "ReUUyNvyvahd"
      },
      "id": "ReUUyNvyvahd",
      "execution_count": null,
      "outputs": []
    },
    {
      "cell_type": "code",
      "source": [
        "name= \"jesus\"\n",
        "print(name)"
      ],
      "metadata": {
        "id": "NNHcn5GkvbXC",
        "outputId": "c5caa3b7-287f-40de-c284-2ea3c5a7ca48",
        "colab": {
          "base_uri": "https://localhost:8080/"
        }
      },
      "id": "NNHcn5GkvbXC",
      "execution_count": 3,
      "outputs": [
        {
          "output_type": "stream",
          "name": "stdout",
          "text": [
            "jesus\n"
          ]
        }
      ]
    },
    {
      "cell_type": "code",
      "source": [
        "age = 17\n",
        "height = 1.83"
      ],
      "metadata": {
        "id": "RXrb6t_4yJBo"
      },
      "id": "RXrb6t_4yJBo",
      "execution_count": 4,
      "outputs": []
    },
    {
      "cell_type": "code",
      "source": [
        "print(type(age))\n",
        "print(type(height))"
      ],
      "metadata": {
        "id": "qbrMDmbKygiL",
        "outputId": "61786949-bfcc-48ce-a6be-f6d4ef99c59d",
        "colab": {
          "base_uri": "https://localhost:8080/"
        }
      },
      "id": "qbrMDmbKygiL",
      "execution_count": 5,
      "outputs": [
        {
          "output_type": "stream",
          "name": "stdout",
          "text": [
            "<class 'int'>\n",
            "<class 'float'>\n"
          ]
        }
      ]
    },
    {
      "cell_type": "code",
      "source": [
        "a = 5\n",
        "b = 2 \n",
        "c= a + b \n",
        "d= a - b\n",
        "e= a * b\n",
        "f= a / b \n",
        "print(c)\n",
        "print(d)\n",
        "print(e)\n",
        "print(f)\n"
      ],
      "metadata": {
        "id": "1HNH_MCEzJgQ",
        "outputId": "d14be67d-90fd-441f-fb66-a0efa8963fe2",
        "colab": {
          "base_uri": "https://localhost:8080/"
        }
      },
      "id": "1HNH_MCEzJgQ",
      "execution_count": 8,
      "outputs": [
        {
          "output_type": "stream",
          "name": "stdout",
          "text": [
            "7\n",
            "3\n",
            "10\n",
            "2.5\n"
          ]
        }
      ]
    },
    {
      "cell_type": "code",
      "source": [
        "a = 5\n",
        "b = 3.5\n",
        "c = 2 \n",
        "eq = 2*a + 3*b - 5*c\n",
        "print(eq)\n"
      ],
      "metadata": {
        "id": "sWUXcmzQ1BJ3",
        "outputId": "9611e63f-b636-4629-fb41-2249d0cb801e",
        "colab": {
          "base_uri": "https://localhost:8080/"
        }
      },
      "id": "sWUXcmzQ1BJ3",
      "execution_count": 10,
      "outputs": [
        {
          "output_type": "stream",
          "name": "stdout",
          "text": [
            "10.5\n"
          ]
        }
      ]
    },
    {
      "cell_type": "code",
      "source": [
        "# calcuo del modulo \n",
        "n = 5 \n",
        "x= n % 2 \n",
        "print(x)"
      ],
      "metadata": {
        "id": "x2kdAiN91--2",
        "outputId": "1ed590e4-56e3-4691-f7e5-9e54761a66da",
        "colab": {
          "base_uri": "https://localhost:8080/"
        }
      },
      "id": "x2kdAiN91--2",
      "execution_count": 12,
      "outputs": [
        {
          "output_type": "stream",
          "name": "stdout",
          "text": [
            "1\n"
          ]
        }
      ]
    },
    {
      "cell_type": "code",
      "source": [
        "greatings = \"good morning\"\n",
        "name = \"jesus\"\n",
        "age = 17\n",
        "message = greatings + \"my name is\" + name + \"and i am\" + str(age) \n",
        "print(message)\n"
      ],
      "metadata": {
        "id": "ibiAF9554by1",
        "outputId": "a86e3d83-7b91-4d2d-b46e-614da245c678",
        "colab": {
          "base_uri": "https://localhost:8080/"
        }
      },
      "id": "ibiAF9554by1",
      "execution_count": 15,
      "outputs": [
        {
          "output_type": "stream",
          "name": "stdout",
          "text": [
            "good morningmy name isjesusand i am17\n"
          ]
        }
      ]
    },
    {
      "cell_type": "code",
      "source": [
        "message =\"\"\" \n",
        "este es un parrafo.\n",
        "que tiene muchas lineas. \n",
        "y si tiene alguna rima.\n",
        "que genial. \n",
        "\"\"\"\n",
        "print(message)"
      ],
      "metadata": {
        "id": "5p8Y4r-e6yI4",
        "outputId": "03d63a82-b777-494f-d744-d68fd3ede1c5",
        "colab": {
          "base_uri": "https://localhost:8080/"
        }
      },
      "id": "5p8Y4r-e6yI4",
      "execution_count": 19,
      "outputs": [
        {
          "output_type": "stream",
          "name": "stdout",
          "text": [
            " \n",
            "este es un parrafo.\n",
            "que tiene muchas lineas. \n",
            "y si tiene alguna rima.\n",
            "que genial. \n",
            "\n"
          ]
        }
      ]
    },
    {
      "cell_type": "code",
      "source": [],
      "metadata": {
        "id": "IwP8vysa8wbQ"
      },
      "id": "IwP8vysa8wbQ",
      "execution_count": null,
      "outputs": []
    }
  ],
  "metadata": {
    "kernelspec": {
      "display_name": "Python 3 (ipykernel)",
      "language": "python",
      "name": "python3"
    },
    "language_info": {
      "codemirror_mode": {
        "name": "ipython",
        "version": 3
      },
      "file_extension": ".py",
      "mimetype": "text/x-python",
      "name": "python",
      "nbconvert_exporter": "python",
      "pygments_lexer": "ipython3",
      "version": "3.10.6"
    },
    "colab": {
      "provenance": [],
      "toc_visible": true
    }
  },
  "nbformat": 4,
  "nbformat_minor": 5
}