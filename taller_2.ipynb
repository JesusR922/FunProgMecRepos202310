{
  "nbformat": 4,
  "nbformat_minor": 0,
  "metadata": {
    "colab": {
      "provenance": [],
      "authorship_tag": "ABX9TyPSaPTegfStY4xIDwdq6sHN",
      "include_colab_link": true
    },
    "kernelspec": {
      "name": "python3",
      "display_name": "Python 3"
    },
    "language_info": {
      "name": "python"
    }
  },
  "cells": [
    {
      "cell_type": "markdown",
      "metadata": {
        "id": "view-in-github",
        "colab_type": "text"
      },
      "source": [
        "<a href=\"https://colab.research.google.com/github/JesusR922/FunProgMecRepos202310/blob/main/taller_2.ipynb\" target=\"_parent\"><img src=\"https://colab.research.google.com/assets/colab-badge.svg\" alt=\"Open In Colab\"/></a>"
      ]
    },
    {
      "cell_type": "code",
      "execution_count": null,
      "metadata": {
        "id": "3dKpVK7zyPeH"
      },
      "outputs": [],
      "source": []
    },
    {
      "cell_type": "markdown",
      "source": [
        "# taller 2 #\n",
        "## fundamento de programacion - ingeneria mecanica upb 202310##\n",
        "\n",
        "\n",
        "*   jesus david rodriguez bello \n",
        "*   000523238\n",
        "\n",
        "*   jesus.rodriguez@gmail.edu.co\n",
        "\n",
        "\n",
        "\n",
        "\n"
      ],
      "metadata": {
        "id": "roIoGRLay28I"
      }
    },
    {
      "cell_type": "markdown",
      "source": [
        "# problema 1 #\n",
        "\n",
        "## calcular y mostrar la posicionde una particula que experimenta moviviento uniforme acelerado ##"
      ],
      "metadata": {
        "id": "NQo7vKxP0Yfi"
      }
    },
    {
      "cell_type": "code",
      "source": [
        " # variables# \n",
        "x_0 = 5\n",
        "v_0 = 4\n",
        "a = -2\n",
        "#para la posicion 1#\n",
        "t_1=3\n",
        "x_1 = x_0 + v_0 * t_1 + 1/2 * a * t_1**2\n",
        "print( x_1)\n",
        "# del mismo modo para la a \n",
        "t_2 = 10\n",
        "x_2 = x_0 + v_0 * t_2 + 1/2 * a * t_2 **2\n",
        "print(x_2)"
      ],
      "metadata": {
        "colab": {
          "base_uri": "https://localhost:8080/"
        },
        "id": "BBHNIidg1cg4",
        "outputId": "e394b04f-8286-4094-e1d1-a1907390347f"
      },
      "execution_count": 5,
      "outputs": [
        {
          "output_type": "stream",
          "name": "stdout",
          "text": [
            "8.0\n",
            "-55.0\n"
          ]
        }
      ]
    },
    {
      "cell_type": "code",
      "source": [
        "#problema 2#\n",
        "##calacular y mostrar la distancia entre dos puntos p1 y p2 ubicados en las coordenadas (x1 , y1) y (x2,y2)\n",
        "### variables ###\n",
        "x1 = 1 \n",
        "x2 = -1\n",
        "y1 = 1 \n",
        "y2 = -1 \n",
        "# para la posicion d_1#\n",
        "d_1 = (x2-x1)**2 + (y2 - y1) **2 **0.5\n",
        "print (d_1)\n",
        "##para la posicion d_2##\n",
        "x1 = -2\n",
        "x2 = 4 \n",
        "y1 = 0 \n",
        "y2 = 5\n",
        "\n",
        "d_2 = (x2-x1)**2 + (y2-y1)**2 **0.5\n",
        "print(d_2)\n"
      ],
      "metadata": {
        "colab": {
          "base_uri": "https://localhost:8080/"
        },
        "id": "q0BfkYms4wXa",
        "outputId": "2c10614c-86c7-4cd6-98dc-bad029899ded"
      },
      "execution_count": 9,
      "outputs": [
        {
          "output_type": "stream",
          "name": "stdout",
          "text": [
            "(3.2903911346983388-2.568939189549123j)\n",
            "45.73851774233542\n"
          ]
        }
      ]
    },
    {
      "cell_type": "markdown",
      "source": [],
      "metadata": {
        "id": "7-OilAQty1Ax"
      }
    },
    {
      "cell_type": "code",
      "source": [],
      "metadata": {
        "id": "oLSMGry5CK7N"
      },
      "execution_count": null,
      "outputs": []
    },
    {
      "cell_type": "markdown",
      "source": [],
      "metadata": {
        "id": "kLZYqtC4yzsx"
      }
    },
    {
      "cell_type": "markdown",
      "source": [
        "#problema 3 #"
      ],
      "metadata": {
        "id": "j9lOr6dPCWnd"
      }
    },
    {
      "cell_type": "code",
      "source": [],
      "metadata": {
        "id": "v8YwsTswCbUw"
      },
      "execution_count": null,
      "outputs": []
    },
    {
      "cell_type": "code",
      "source": [
        "# variables#\n",
        "a = -3\n",
        "b = 3\n",
        "c = 4 \n",
        "d = 0 \n",
        "\n",
        "a < b \n",
        "b > c\n",
        "\n"
      ],
      "metadata": {
        "colab": {
          "base_uri": "https://localhost:8080/"
        },
        "id": "CW3c8TGpCckF",
        "outputId": "1968be85-50ce-460a-89ce-8a1cfbfb04af"
      },
      "execution_count": 15,
      "outputs": [
        {
          "output_type": "execute_result",
          "data": {
            "text/plain": [
              "False"
            ]
          },
          "metadata": {},
          "execution_count": 15
        }
      ]
    },
    {
      "cell_type": "code",
      "source": [],
      "metadata": {
        "id": "w0a0HnAvDeOZ"
      },
      "execution_count": null,
      "outputs": []
    }
  ]
}