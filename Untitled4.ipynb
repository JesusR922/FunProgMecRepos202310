{
  "nbformat": 4,
  "nbformat_minor": 0,
  "metadata": {
    "colab": {
      "provenance": [],
      "authorship_tag": "ABX9TyN2OYxHaFs9RlRL4IFFtB7i",
      "include_colab_link": true
    },
    "kernelspec": {
      "name": "python3",
      "display_name": "Python 3"
    },
    "language_info": {
      "name": "python"
    }
  },
  "cells": [
    {
      "cell_type": "markdown",
      "metadata": {
        "id": "view-in-github",
        "colab_type": "text"
      },
      "source": [
        "<a href=\"https://colab.research.google.com/github/JesusR922/FunProgMecRepos202310/blob/main/Untitled4.ipynb\" target=\"_parent\"><img src=\"https://colab.research.google.com/assets/colab-badge.svg\" alt=\"Open In Colab\"/></a>"
      ]
    },
    {
      "cell_type": "markdown",
      "source": [
        "#TALLER DE FUNDAMENTO DE PROGRAMACION#\n",
        "##Antolin Vitola Montes##\n",
        "###000523062###\n",
        "\n",
        "####Un estudiante de primer semestre que ingresa a la Universidad y quiere estimar su gasto,total mensual a partir de su costo de vida como estudiante.####\n",
        "\n",
        "****información socioeconómica (estrato), lugar de residencia, edad, promedio académico ponderado proyectado en el semestre y el apoyo económico que le ofrece un mecenas,llamado Chocolove McDonell****\n",
        "\n",
        "*Componentes del Costo de Vida:*\n",
        "***Transporte***: *el costo del transporte incluye las movilizaciones diarias desde su hogar hacia, la Universidad ida y regreso. \n",
        "\n",
        "La tarifa por trayecto es de:\n",
        "\n",
        "1.   2,800 cop en el casco urbano de Monteria.\n",
        "2.   3,5000 cop si es afuera de Monteria\n",
        "\n",
        "\n",
        "- **Alimentación**: el día de alimentación se estima en:\n",
        "\n",
        "$20.000 COP incluye desayuno,\n",
        "\n",
        "1.   20000 el desayuno, almuerzo y cena\n",
        "\n",
        "- Matrícula: el pago de la matrícula se realiza una sola vez por semestre antes de iniciar clases y tiene un valor de:\n",
        "\n",
        "1.   5,000,000\n",
        "\n",
        "\n",
        "\n",
        "Apoyos de Chocolove:\n",
        "- **Transporte: Chocolove considera los siguientes auxilios en función de su estrato**\n",
        "\n",
        "socioeconómico y edad:\n",
        " Estrato 1: 65.000 COP mensuales si es menor de edad; $50.000 COP\n",
        "mensuales si es mayor de edad.\n",
        "\n",
        "Estrato 2: 45.000 COP mensuales si es menor de edad; $30.000 COP\n",
        "mensuales si es mayor de edad.\n",
        "\n",
        "Estrato 3: 35.000 COP mensuales si es menor de edad; $20.000 COP\n",
        "mensuales si es mayor de edad.\n",
        "\n",
        "**Los demás estratos no reciben apoyo de transporte de Chocolove.**\n",
        "- Alimentación: Chocolove considera los siguientes auxilios en función de su estrato\n",
        "\n",
        "socioeconómico y edad:\n",
        " Estrato 1: 90% del costo de alimentación mensual si es menor de edad; 70% del costo, si es mayor de edad.\n",
        "\n",
        "Estrato 2: 70% del costo de alimentación mensual si es menor de edad; 50% del costo, si es mayor de edad.\n",
        "\n",
        "Estrato 3: 50% del costo de alimentación mensual si es menor de edad; 30% del costo, si es mayor de edad.\n",
        "\n",
        "** Los demás estratos no reciben apoyo de alimentación de Chocolove.**\n",
        "  \n",
        "Matrícula: Chocolove regresará hasta el 100% de la matrícula a los estudiantes que, obtengan un promedio ponderado superior a 4.8/5.0 al finalizar el semestre; 70% si elpromedio está entre 4.5 y 4.8; y 40% si el promedio se encuentra entre 4.0 y 4.5."
      ],
      "metadata": {
        "id": "ZxwRZsGDwqNM"
      }
    },
    {
      "cell_type": "code",
      "source": [
        "#  variables de entrada\n",
        "# ingresar\n",
        "estrato = int(input(\"ingresar estrato: \"))\n",
        "lugar_residencia = input(\"¿estas en Monteria-Cordoba? (Si/No): \")\n",
        "edad = int(input(\"edad: \"))\n",
        "promedio = float(input(\"promedio académico imparcial: \"))\n",
        "apoyo_transporte = 0\n",
        "apoyo_alimentacion = 0\n",
        "\n",
        "#insertamos datos\n",
        "\n",
        "if estrato == 1:\n",
        "  if edad > 18:\n",
        "    apoyo_transporte = 50000\n",
        "  else:\n",
        "    apoyo_transporte = 65000\n",
        "elif estrato == 2:\n",
        "  if edad > 18:\n",
        "    apoyo_transporte = 30000\n",
        "  else:\n",
        "    apoyo_transporte = 45000\n",
        "elif estrato == 3:\n",
        "  if edad > 18:\n",
        "    apoyo_transporte = 20000\n",
        "  else:\n",
        "    apoyo_transporte = 35000\n",
        "\n",
        "#  alimentación\n",
        "costo_alimentacion = 20000 * 20 # 20 días por mes\n",
        "if estrato == 1:\n",
        "  if edad < 18:\n",
        "    apoyo_alimentacion = costo_alimentacion * 0.9\n",
        "  else:\n",
        "    apoyo_alimentacion = costo_alimentacion * 0.7\n",
        "elif estrato == 2:\n",
        "  if edad < 18:\n",
        "    apoyo_alimentacion = costo_alimentacion * 0.7\n",
        "  else:\n",
        "    apoyo_alimentacion = costo_alimentacion * 0.5\n",
        "elif estrato == 3:\n",
        "  if edad < 18:\n",
        "    apoyo_alimentacion = costo_alimentacion * 0.5\n",
        "  else:\n",
        "    apoyo_alimentacion = costo_alimentacion * 0.3\n",
        "\n",
        "#  transporte\n",
        "if lugar_residencia.upper() == \"si\":\n",
        "  costo_transporte = 2800 * 2 * 20 #20 días al mes\n",
        "else:\n",
        "  costo_transporte = 3500 * 2 * 20 #20 días al mes\n",
        "\n",
        "#  la matrícula\n",
        "if promedio > 4.8:\n",
        "  costo_matricula = 0\n",
        "elif promedio > 4.5:\n",
        "  costo_matricula = 5000000 * 0.3\n",
        "elif promedio > 4.0:\n",
        "  costo_matricula = 5000000 * 0.6\n",
        "else:\n",
        "  costo_matricula = 5000000\n",
        "\n",
        "# gtm\n",
        "gasto_total = costo_transporte + apoyo_transporte + costo_alimentacion - apoyo_alimentacion + costo_matricula\n",
        "gtm = gasto_total / 4\n",
        "\n",
        "# Mostrar resultado\n",
        "print(f\"El gasto total mensual es de ${gasto_mensual:.2f}\")"
      ],
      "metadata": {
        "id": "S_caW1djIZvP",
        "colab": {
          "base_uri": "https://localhost:8080/"
        },
        "outputId": "c60fe8d1-31e4-4855-ea16-208770b0dcb1"
      },
      "execution_count": 9,
      "outputs": [
        {
          "output_type": "stream",
          "name": "stdout",
          "text": [
            "ingresar estrato: 1\n",
            "¿estas en Monteria-Cordoba? (Si/No): No\n",
            "edad: 17\n",
            "promedio académico imparcial: 4.0\n",
            "El gasto total mensual es de $1346250.00\n"
          ]
        }
      ]
    }
  ]
}