{
  "nbformat": 4,
  "nbformat_minor": 0,
  "metadata": {
    "colab": {
      "provenance": [],
      "authorship_tag": "ABX9TyMY/jiSIX4W4yT0SkjcYI+1",
      "include_colab_link": true
    },
    "kernelspec": {
      "name": "python3",
      "display_name": "Python 3"
    },
    "language_info": {
      "name": "python"
    }
  },
  "cells": [
    {
      "cell_type": "markdown",
      "metadata": {
        "id": "view-in-github",
        "colab_type": "text"
      },
      "source": [
        "<a href=\"https://colab.research.google.com/github/JesusR922/FunProgMecRepos202310/blob/main/Untitled4.ipynb\" target=\"_parent\"><img src=\"https://colab.research.google.com/assets/colab-badge.svg\" alt=\"Open In Colab\"/></a>"
      ]
    },
    {
      "cell_type": "markdown",
      "source": [
        "#taller de fundamento de programacion-ingeneria mecanica 1er semestre#\n",
        "\n",
        "##jesus david rodriguez bello##\n",
        "### 000523238 ###\n",
        "\n",
        "\n"
      ],
      "metadata": {
        "id": "PBThQPEzxpL4"
      }
    },
    {
      "cell_type": "code",
      "source": [
        "\n",
        "# Definir variables de entrada\n",
        "estrato = int(input(\"Ingrese su estrato socioeconómico: \"))\n",
        "lugar_residencia = input(\"¿Vive en Montería? (Y/N): \")\n",
        "edad = int(input(\"Ingrese su edad: \"))\n",
        "promedio = float(input(\"Ingrese su promedio académico ponderado proyectado: \"))\n",
        "apoyo_transporte = 0\n",
        "apoyo_alimentacion = 0\n",
        "\n",
        "# Calcular apoyo de transporte\n",
        "#anexo de dato\n",
        "if estrato == 1:\n",
        "  if edad < 18:\n",
        "    apoyo_transporte = 65000\n",
        "  else:\n",
        "    apoyo_transporte = 50000\n",
        "elif estrato == 2:\n",
        "  if edad < 18:\n",
        "    apoyo_transporte = 45000\n",
        "  else:\n",
        "    apoyo_transporte = 30000\n",
        "elif estrato == 3:\n",
        "  if edad < 18:\n",
        "    apoyo_transporte = 35000\n",
        "  else:\n",
        "    apoyo_transporte = 20000\n",
        "\n",
        "# Calcular apoyo para alimentación\n",
        "##anexo de dato\n",
        "costo_alimentacion = 20000 * 20 # 20 días hábiles por mes\n",
        "if estrato == 1:\n",
        "  if edad < 18:\n",
        "    apoyo_alimentacion = costo_alimentacion * 0.9\n",
        "  else:\n",
        "    apoyo_alimentacion = costo_alimentacion * 0.7\n",
        "elif estrato == 2:\n",
        "  if edad < 18:\n",
        "    apoyo_alimentacion = costo_alimentacion * 0.7\n",
        "  else:\n",
        "    apoyo_alimentacion = costo_alimentacion * 0.5\n",
        "elif estrato == 3:\n",
        "  if edad < 18:\n",
        "    apoyo_alimentacion = costo_alimentacion * 0.5\n",
        "  else:\n",
        "    apoyo_alimentacion = costo_alimentacion * 0.3\n",
        "\n",
        "# Calcular costo de transporte\n",
        "if lugar_residencia.upper() == \"y\":\n",
        "  costo_transporte = 2800 * 2 * 20 # 20 días hábiles por mes\n",
        "else:\n",
        "  costo_transporte = 3500 * 2 * 20 # 20 días hábiles por mes\n",
        "\n",
        "# Calcular costo de matrícula\n",
        "if promedio > 4.8:\n",
        "  costo_matricula = 0\n",
        "elif promedio > 4.5:\n",
        "  costo_matricula = 5000000 * 0.3\n",
        "elif promedio > 4.0:\n",
        "  costo_matricula = 5000000 * 0.6\n",
        "else:\n",
        "  costo_matricula = 5000000\n",
        "\n",
        "# Calcular gasto total mensual\n",
        "gasto_total = costo_transporte + apoyo_transporte + costo_alimentacion - apoyo_alimentacion + costo_matricula\n",
        "gasto_mensual = gasto_total / 4\n",
        "\n",
        "# Mostrar resultado\n",
        "print(f\"El gasto total mensual es de ${gasto_mensual:.2f}\")"
      ],
      "metadata": {
        "colab": {
          "base_uri": "https://localhost:8080/"
        },
        "id": "47UYO7xL8EeC",
        "outputId": "2ac3d848-e2b7-49dd-af02-98c37cbaa678"
      },
      "execution_count": null,
      "outputs": [
        {
          "output_type": "stream",
          "name": "stdout",
          "text": [
            "Ingrese su estrato socioeconómico: 2\n",
            "¿Vive en Montería? (Y/N): Y\n",
            "Ingrese su edad: 17\n",
            "Ingrese su promedio académico ponderado proyectado: 3.5\n",
            "El gasto total mensual es de $1326250.00\n"
          ]
        }
      ]
    },
    {
      "cell_type": "markdown",
      "source": [],
      "metadata": {
        "id": "5ohUF0z7-SaX"
      }
    }
  ]
}